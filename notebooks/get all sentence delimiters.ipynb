{
 "cells": [
  {
   "cell_type": "code",
   "execution_count": 1,
   "id": "719fd526-febd-4b4c-aada-8ea0c4bdc44e",
   "metadata": {},
   "outputs": [],
   "source": [
    "import json\n",
    "from openai import OpenAI\n",
    "import numpy as np\n",
    "from collections import defaultdict\n",
    "from tqdm import tqdm"
   ]
  },
  {
   "cell_type": "code",
   "execution_count": 8,
   "id": "66944639-7cb7-4dd4-acd4-f5ff97df5563",
   "metadata": {},
   "outputs": [],
   "source": [
    "DATA_FILES = [\n",
    "    # \"../data/sbd_adjudicatory_dec/data_set/intellectual_property.json\",\n",
    "    # \"../data/sbd_adjudicatory_dec/data_set/bva.json\",\n",
    "    \"../data/sbd_adjudicatory_dec/data_set/cyber_crime.json\",\n",
    "    # \"../data/sbd_adjudicatory_dec/data_set/scotus.json\",\n",
    "]"
   ]
  },
  {
   "cell_type": "code",
   "execution_count": 9,
   "id": "670ce956-bc08-4065-b080-050820cd8d55",
   "metadata": {},
   "outputs": [],
   "source": [
    "full_data = []\n",
    "for file in DATA_FILES:\n",
    "    data = json.load(open(file))\n",
    "    full_data.append(data)"
   ]
  },
  {
   "cell_type": "code",
   "execution_count": 12,
   "id": "47337daa-b9ab-4015-bcb0-ce7bdf2b88e7",
   "metadata": {},
   "outputs": [],
   "source": [
    "counts = defaultdict(int)\n",
    "total = 0\n",
    "for dataset in full_data:\n",
    "    for key in dataset.keys():\n",
    "        doc = dataset[key]\n",
    "        for annotation in doc['annotations']:\n",
    "            end = annotation['end'] - 1\n",
    "            delim = doc['text'][end]\n",
    "            counts[delim] += 1\n",
    "            total += 1"
   ]
  },
  {
   "cell_type": "code",
   "execution_count": 13,
   "id": "c472211f-7a8a-4dce-a2bf-abb18748675a",
   "metadata": {},
   "outputs": [
    {
     "data": {
      "text/plain": [
       "[('’', 1),\n",
       " ('†', 1),\n",
       " ('U', 1),\n",
       " ('i', 1),\n",
       " ('C', 1),\n",
       " (',', 1),\n",
       " ('u', 1),\n",
       " ('_', 2),\n",
       " ('W', 2),\n",
       " ('T', 2),\n",
       " ('p', 2),\n",
       " ('a', 2),\n",
       " ('X', 2),\n",
       " ('—', 2),\n",
       " ('P', 3),\n",
       " ('Y', 3),\n",
       " ('h', 3),\n",
       " ('R', 3),\n",
       " ('m', 3),\n",
       " ('o', 3),\n",
       " ('g', 5),\n",
       " ('B', 6),\n",
       " ('r', 6),\n",
       " ('V', 7),\n",
       " ('D', 7),\n",
       " ('w', 8),\n",
       " ('A', 9),\n",
       " ('E', 9),\n",
       " ('y', 9),\n",
       " (';', 11),\n",
       " ('d', 13),\n",
       " ('*', 14),\n",
       " ('N', 16),\n",
       " ('l', 19),\n",
       " ('!', 21),\n",
       " (\"'\", 27),\n",
       " ('I', 28),\n",
       " ('S', 29),\n",
       " ('e', 31),\n",
       " ('n', 35),\n",
       " ('?', 36),\n",
       " ('s', 41),\n",
       " ('t', 43),\n",
       " ('0', 45),\n",
       " ('5', 47),\n",
       " ('6', 48),\n",
       " ('8', 51),\n",
       " ('3', 51),\n",
       " ('9', 52),\n",
       " ('7', 52),\n",
       " ('4', 53),\n",
       " ('2', 60),\n",
       " ('1', 66),\n",
       " ('”', 80),\n",
       " (':', 142),\n",
       " (']', 180),\n",
       " (')', 291),\n",
       " ('\"', 685),\n",
       " ('.', 5921)]"
      ]
     },
     "execution_count": 13,
     "metadata": {},
     "output_type": "execute_result"
    }
   ],
   "source": [
    "sorted(counts.items(), key=lambda item: item[1])"
   ]
  },
  {
   "cell_type": "code",
   "execution_count": 15,
   "id": "48a9bde3-5578-45fd-8e8a-31d45ed63d59",
   "metadata": {},
   "outputs": [
    {
     "data": {
      "text/plain": [
       "0.7139756421078017"
      ]
     },
     "execution_count": 15,
     "metadata": {},
     "output_type": "execute_result"
    }
   ],
   "source": [
    "5921 / total"
   ]
  },
  {
   "cell_type": "code",
   "execution_count": null,
   "id": "5442d598-5108-4345-9990-be5556978f77",
   "metadata": {},
   "outputs": [],
   "source": []
  }
 ],
 "metadata": {
  "kernelspec": {
   "display_name": "labellm",
   "language": "python",
   "name": "labellm"
  },
  "language_info": {
   "codemirror_mode": {
    "name": "ipython",
    "version": 3
   },
   "file_extension": ".py",
   "mimetype": "text/x-python",
   "name": "python",
   "nbconvert_exporter": "python",
   "pygments_lexer": "ipython3",
   "version": "3.12.3"
  }
 },
 "nbformat": 4,
 "nbformat_minor": 5
}
